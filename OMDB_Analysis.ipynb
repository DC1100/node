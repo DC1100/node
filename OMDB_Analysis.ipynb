{
  "nbformat": 4,
  "nbformat_minor": 0,
  "metadata": {
    "colab": {
      "name": "OMDB_Analysis.ipynb",
      "version": "0.3.2",
      "provenance": [],
      "collapsed_sections": [],
      "include_colab_link": true
    },
    "kernelspec": {
      "name": "python3",
      "display_name": "Python 3"
    }
  },
  "cells": [
    {
      "cell_type": "markdown",
      "metadata": {
        "id": "view-in-github",
        "colab_type": "text"
      },
      "source": [
        "<a href=\"https://colab.research.google.com/github/DC1100/node/blob/master/OMDB_Analysis.ipynb\" target=\"_parent\"><img src=\"https://colab.research.google.com/assets/colab-badge.svg\" alt=\"Open In Colab\"/></a>"
      ]
    },
    {
      "cell_type": "markdown",
      "metadata": {
        "id": "j4vyp3dKx1oH",
        "colab_type": "text"
      },
      "source": [
        "# OMBD Exploratory Analysis\n",
        "\n",
        "In this notebook, we will explore a few key characteristics of an OMBD dataset. Our first step is to import the **movies_rated** dataset as a CSV file and convert it into a 'dataframe' obkect for processing\n",
        "\n",
        "\n"
      ]
    },
    {
      "cell_type": "code",
      "metadata": {
        "id": "hBoB3wejy_bk",
        "colab_type": "code",
        "colab": {
          "base_uri": "https://localhost:8080/",
          "height": 34
        },
        "outputId": "9143975b-1288-42a8-a152-72b754ef47d5"
      },
      "source": [
        "#First find out where we are . \n",
        "\n",
        "!ls"
      ],
      "execution_count": 6,
      "outputs": [
        {
          "output_type": "stream",
          "text": [
            "movies_rated.csv  sample_data\n"
          ],
          "name": "stdout"
        }
      ]
    },
    {
      "cell_type": "code",
      "metadata": {
        "id": "gIu4AgtNzH7N",
        "colab_type": "code",
        "colab": {
          "base_uri": "https://localhost:8080/",
          "height": 153
        },
        "outputId": "a85024a1-f404-4f07-80d3-73e47c4b8ec2"
      },
      "source": [
        "import pandas as pd \n",
        "\n",
        "omdb_df = pd.read_csv('movies_rated.csv')\n"
      ],
      "execution_count": 8,
      "outputs": [
        {
          "output_type": "stream",
          "text": [
            "                      title  year  ... Rotten Tomatoes Metacritic\n",
            "0  The Shawshank Redemption  1994  ...             9.1        8.0\n",
            "1             The Godfather  1972  ...             9.8       10.0\n",
            "2           The Dark Knight  2008  ...             9.4        8.2\n",
            "3    The Godfather: Part II  1974  ...             9.7        9.0\n",
            "4              Pulp Fiction  1994  ...             9.4        9.4\n",
            "\n",
            "[5 rows x 9 columns]\n"
          ],
          "name": "stdout"
        }
      ]
    },
    {
      "cell_type": "markdown",
      "metadata": {
        "id": "42K848Jj07T4",
        "colab_type": "text"
      },
      "source": [
        "# Observing the first five row"
      ]
    },
    {
      "cell_type": "code",
      "metadata": {
        "id": "uiDHRkDG1Bm1",
        "colab_type": "code",
        "colab": {
          "base_uri": "https://localhost:8080/",
          "height": 153
        },
        "outputId": "9693572e-35b8-4e9c-e1db-f58fa41f5bcb"
      },
      "source": [
        "print(omdb_df.head())"
      ],
      "execution_count": 9,
      "outputs": [
        {
          "output_type": "stream",
          "text": [
            "                      title  year  ... Rotten Tomatoes Metacritic\n",
            "0  The Shawshank Redemption  1994  ...             9.1        8.0\n",
            "1             The Godfather  1972  ...             9.8       10.0\n",
            "2           The Dark Knight  2008  ...             9.4        8.2\n",
            "3    The Godfather: Part II  1974  ...             9.7        9.0\n",
            "4              Pulp Fiction  1994  ...             9.4        9.4\n",
            "\n",
            "[5 rows x 9 columns]\n"
          ],
          "name": "stdout"
        }
      ]
    },
    {
      "cell_type": "markdown",
      "metadata": {
        "id": "deQreajt1H8X",
        "colab_type": "text"
      },
      "source": [
        "## Num Rows/ Cols in this dataset"
      ]
    },
    {
      "cell_type": "code",
      "metadata": {
        "id": "gRRxzxw41NCO",
        "colab_type": "code",
        "colab": {
          "base_uri": "https://localhost:8080/",
          "height": 34
        },
        "outputId": "9c786681-79e1-4e49-f54d-b29917937ba1"
      },
      "source": [
        "print(omdb_df.shape)"
      ],
      "execution_count": 12,
      "outputs": [
        {
          "output_type": "stream",
          "text": [
            "(79, 9)\n"
          ],
          "name": "stdout"
        }
      ]
    },
    {
      "cell_type": "markdown",
      "metadata": {
        "id": "3JuRcUcK1gRm",
        "colab_type": "text"
      },
      "source": [
        "# # List of column names"
      ]
    },
    {
      "cell_type": "code",
      "metadata": {
        "id": "JimCqbbS1nWM",
        "colab_type": "code",
        "colab": {
          "base_uri": "https://localhost:8080/",
          "height": 68
        },
        "outputId": "73dc5e60-7318-4b1b-886b-c3ad11377660"
      },
      "source": [
        "print(omdb_df.columns)"
      ],
      "execution_count": 14,
      "outputs": [
        {
          "output_type": "stream",
          "text": [
            "Index(['title', 'year', 'content_rating', 'genre', 'duration', 'gross',\n",
            "       'Internet Movie Database', 'Rotten Tomatoes', 'Metacritic'],\n",
            "      dtype='object')\n"
          ],
          "name": "stdout"
        }
      ]
    },
    {
      "cell_type": "markdown",
      "metadata": {
        "id": "DPsfJpLQ16Rl",
        "colab_type": "text"
      },
      "source": [
        "##Column Datatypes\n"
      ]
    },
    {
      "cell_type": "code",
      "metadata": {
        "id": "n-BA0Jjc190y",
        "colab_type": "code",
        "colab": {
          "base_uri": "https://localhost:8080/",
          "height": 187
        },
        "outputId": "e924be8d-d225-4aab-e8dd-fea60c132695"
      },
      "source": [
        "print(omdb_df.dtypes)"
      ],
      "execution_count": 15,
      "outputs": [
        {
          "output_type": "stream",
          "text": [
            "title                       object\n",
            "year                         int64\n",
            "content_rating              object\n",
            "genre                       object\n",
            "duration                     int64\n",
            "gross                        int64\n",
            "Internet Movie Database    float64\n",
            "Rotten Tomatoes            float64\n",
            "Metacritic                 float64\n",
            "dtype: object\n"
          ],
          "name": "stdout"
        }
      ]
    },
    {
      "cell_type": "markdown",
      "metadata": {
        "id": "fpWZzuhk2ITZ",
        "colab_type": "text"
      },
      "source": [
        "## Number of unique generes are available in the data set"
      ]
    },
    {
      "cell_type": "code",
      "metadata": {
        "id": "Z7AkPVKi2Nav",
        "colab_type": "code",
        "colab": {
          "base_uri": "https://localhost:8080/",
          "height": 187
        },
        "outputId": "0f114c71-5e6b-4470-9407-5b0c67894c11"
      },
      "source": [
        "print(omdb_df.nunique())"
      ],
      "execution_count": 17,
      "outputs": [
        {
          "output_type": "stream",
          "text": [
            "title                      79\n",
            "year                       48\n",
            "content_rating              6\n",
            "genre                      12\n",
            "duration                   55\n",
            "gross                      79\n",
            "Internet Movie Database    10\n",
            "Rotten Tomatoes            28\n",
            "Metacritic                 38\n",
            "dtype: int64\n"
          ],
          "name": "stdout"
        }
      ]
    },
    {
      "cell_type": "markdown",
      "metadata": {
        "id": "oD7okZO73aZg",
        "colab_type": "text"
      },
      "source": [
        ""
      ]
    },
    {
      "cell_type": "markdown",
      "metadata": {
        "id": "B4iQGjrI3aTc",
        "colab_type": "text"
      },
      "source": [
        ""
      ]
    },
    {
      "cell_type": "markdown",
      "metadata": {
        "id": "k2likejE24KZ",
        "colab_type": "text"
      },
      "source": [
        "#Top 5 R-rated movies"
      ]
    },
    {
      "cell_type": "code",
      "metadata": {
        "id": "kzM5FqdI27m9",
        "colab_type": "code",
        "colab": {
          "base_uri": "https://localhost:8080/",
          "height": 130
        },
        "outputId": "bbe7e031-5d07-4953-a1a1-fb5c846e6f47"
      },
      "source": [
        "all_r = ombd_df[ombd_df['content_rating'] == 'R']"
      ],
      "execution_count": 18,
      "outputs": [
        {
          "output_type": "error",
          "ename": "SyntaxError",
          "evalue": "ignored",
          "traceback": [
            "\u001b[0;36m  File \u001b[0;32m\"<ipython-input-18-bfbf4d1fbf8f>\"\u001b[0;36m, line \u001b[0;32m1\u001b[0m\n\u001b[0;31m    print(ombd_df[ombd_df['content_rating'] == 'R'].sort_values(by='gross', ascending=False)\u001b[0m\n\u001b[0m                                                                                            ^\u001b[0m\n\u001b[0;31mSyntaxError\u001b[0m\u001b[0;31m:\u001b[0m unexpected EOF while parsing\n"
          ]
        }
      ]
    },
    {
      "cell_type": "markdown",
      "metadata": {
        "id": "R-GYehyN3cnF",
        "colab_type": "text"
      },
      "source": [
        "##Average Score for all Rotten Tomatoes "
      ]
    },
    {
      "cell_type": "code",
      "metadata": {
        "id": "8KIaX-c63kiS",
        "colab_type": "code",
        "colab": {
          "base_uri": "https://localhost:8080/",
          "height": 34
        },
        "outputId": "9fa7bd59-947f-45c4-ef9e-4f2559a0a59f"
      },
      "source": [
        "print(ombd_df['Rotten Tomatoes'].mean())"
      ],
      "execution_count": 19,
      "outputs": [
        {
          "output_type": "stream",
          "text": [
            "9.087341772151895\n"
          ],
          "name": "stdout"
        }
      ]
    }
  ]
}